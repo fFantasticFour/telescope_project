{
 "cells": [
  {
   "cell_type": "code",
   "execution_count": 1,
   "metadata": {},
   "outputs": [],
   "source": [
    "import numpy as np\n",
    "import pandas as pd\n",
    "import matplotlib.pyplot as plt"
   ]
  },
  {
   "cell_type": "code",
   "execution_count": null,
   "metadata": {},
   "outputs": [],
   "source": [
    "#df=pd.read_csv('exoplanet.eu_catalog.csv') "
   ]
  },
  {
   "cell_type": "code",
   "execution_count": null,
   "metadata": {},
   "outputs": [],
   "source": [
    "import pyvo\n",
    "\n",
    "service = pyvo.dal.TAPService(\"http://voparis-tap-planeto.obspm.fr/tap\")\n",
    "\n",
    "query = \"SELECT * FROM exoplanet.epn_core WHERE semi_major_axis < 5\"\n",
    "\n",
    "results = service.search(query) \n",
    "\n",
    "df=pd.DataFrame(results)\n",
    "\n",
    "for col in df.columns: \n",
    "    print(col) "
   ]
  },
  {
   "cell_type": "code",
   "execution_count": 2,
   "metadata": {},
   "outputs": [
    {
     "name": "stderr",
     "output_type": "stream",
     "text": [
      "/usr/local/lib/python3.7/site-packages/IPython/core/interactiveshell.py:3051: DtypeWarning: Columns (101) have mixed types. Specify dtype option on import or set low_memory=False.\n",
      "  interactivity=interactivity, compiler=compiler, result=result)\n"
     ]
    }
   ],
   "source": [
    "df=pd.read_csv('planets_2020.04.14_20.12.44.csv')"
   ]
  },
  {
   "cell_type": "code",
   "execution_count": 3,
   "metadata": {},
   "outputs": [
    {
     "data": {
      "text/html": [
       "<div>\n",
       "<style scoped>\n",
       "    .dataframe tbody tr th:only-of-type {\n",
       "        vertical-align: middle;\n",
       "    }\n",
       "\n",
       "    .dataframe tbody tr th {\n",
       "        vertical-align: top;\n",
       "    }\n",
       "\n",
       "    .dataframe thead th {\n",
       "        text-align: right;\n",
       "    }\n",
       "</style>\n",
       "<table border=\"1\" class=\"dataframe\">\n",
       "  <thead>\n",
       "    <tr style=\"text-align: right;\">\n",
       "      <th></th>\n",
       "      <th>rowid</th>\n",
       "      <th>pl_hostname</th>\n",
       "      <th>pl_letter</th>\n",
       "      <th>pl_name</th>\n",
       "      <th>pl_discmethod</th>\n",
       "      <th>pl_controvflag</th>\n",
       "      <th>pl_pnum</th>\n",
       "      <th>pl_orbper</th>\n",
       "      <th>pl_orbsmax</th>\n",
       "      <th>pl_orbeccen</th>\n",
       "      <th>...</th>\n",
       "      <th>st_bmvj</th>\n",
       "      <th>st_vjmic</th>\n",
       "      <th>st_vjmrc</th>\n",
       "      <th>st_jmh2</th>\n",
       "      <th>st_hmk2</th>\n",
       "      <th>st_jmk2</th>\n",
       "      <th>st_bmy</th>\n",
       "      <th>st_m1</th>\n",
       "      <th>st_c1</th>\n",
       "      <th>st_colorn</th>\n",
       "    </tr>\n",
       "  </thead>\n",
       "  <tbody>\n",
       "    <tr>\n",
       "      <th>0</th>\n",
       "      <td>1</td>\n",
       "      <td>11 Com</td>\n",
       "      <td>b</td>\n",
       "      <td>11 Com b</td>\n",
       "      <td>Radial Velocity</td>\n",
       "      <td>0</td>\n",
       "      <td>1</td>\n",
       "      <td>326.030000</td>\n",
       "      <td>1.290000</td>\n",
       "      <td>0.2310</td>\n",
       "      <td>...</td>\n",
       "      <td>1.010</td>\n",
       "      <td>NaN</td>\n",
       "      <td>NaN</td>\n",
       "      <td>0.459</td>\n",
       "      <td>0.202</td>\n",
       "      <td>0.661</td>\n",
       "      <td>NaN</td>\n",
       "      <td>NaN</td>\n",
       "      <td>NaN</td>\n",
       "      <td>7</td>\n",
       "    </tr>\n",
       "    <tr>\n",
       "      <th>1</th>\n",
       "      <td>2</td>\n",
       "      <td>11 UMi</td>\n",
       "      <td>b</td>\n",
       "      <td>11 UMi b</td>\n",
       "      <td>Radial Velocity</td>\n",
       "      <td>0</td>\n",
       "      <td>1</td>\n",
       "      <td>516.219970</td>\n",
       "      <td>1.530000</td>\n",
       "      <td>0.0800</td>\n",
       "      <td>...</td>\n",
       "      <td>1.369</td>\n",
       "      <td>NaN</td>\n",
       "      <td>NaN</td>\n",
       "      <td>0.785</td>\n",
       "      <td>0.152</td>\n",
       "      <td>0.937</td>\n",
       "      <td>NaN</td>\n",
       "      <td>NaN</td>\n",
       "      <td>NaN</td>\n",
       "      <td>5</td>\n",
       "    </tr>\n",
       "    <tr>\n",
       "      <th>2</th>\n",
       "      <td>3</td>\n",
       "      <td>14 And</td>\n",
       "      <td>b</td>\n",
       "      <td>14 And b</td>\n",
       "      <td>Radial Velocity</td>\n",
       "      <td>0</td>\n",
       "      <td>1</td>\n",
       "      <td>185.840000</td>\n",
       "      <td>0.830000</td>\n",
       "      <td>0.0000</td>\n",
       "      <td>...</td>\n",
       "      <td>1.020</td>\n",
       "      <td>NaN</td>\n",
       "      <td>NaN</td>\n",
       "      <td>0.411</td>\n",
       "      <td>0.277</td>\n",
       "      <td>0.688</td>\n",
       "      <td>NaN</td>\n",
       "      <td>NaN</td>\n",
       "      <td>NaN</td>\n",
       "      <td>7</td>\n",
       "    </tr>\n",
       "    <tr>\n",
       "      <th>3</th>\n",
       "      <td>4</td>\n",
       "      <td>14 Her</td>\n",
       "      <td>b</td>\n",
       "      <td>14 Her b</td>\n",
       "      <td>Radial Velocity</td>\n",
       "      <td>0</td>\n",
       "      <td>1</td>\n",
       "      <td>1773.400020</td>\n",
       "      <td>2.930000</td>\n",
       "      <td>0.3700</td>\n",
       "      <td>...</td>\n",
       "      <td>0.880</td>\n",
       "      <td>NaN</td>\n",
       "      <td>NaN</td>\n",
       "      <td>0.355</td>\n",
       "      <td>0.089</td>\n",
       "      <td>0.444</td>\n",
       "      <td>0.537</td>\n",
       "      <td>0.366</td>\n",
       "      <td>0.438</td>\n",
       "      <td>9</td>\n",
       "    </tr>\n",
       "    <tr>\n",
       "      <th>4</th>\n",
       "      <td>5</td>\n",
       "      <td>16 Cyg B</td>\n",
       "      <td>b</td>\n",
       "      <td>16 Cyg B b</td>\n",
       "      <td>Radial Velocity</td>\n",
       "      <td>0</td>\n",
       "      <td>1</td>\n",
       "      <td>798.500000</td>\n",
       "      <td>1.660000</td>\n",
       "      <td>0.6800</td>\n",
       "      <td>...</td>\n",
       "      <td>0.660</td>\n",
       "      <td>NaN</td>\n",
       "      <td>NaN</td>\n",
       "      <td>0.298</td>\n",
       "      <td>0.044</td>\n",
       "      <td>0.342</td>\n",
       "      <td>0.418</td>\n",
       "      <td>0.222</td>\n",
       "      <td>0.351</td>\n",
       "      <td>17</td>\n",
       "    </tr>\n",
       "    <tr>\n",
       "      <th>...</th>\n",
       "      <td>...</td>\n",
       "      <td>...</td>\n",
       "      <td>...</td>\n",
       "      <td>...</td>\n",
       "      <td>...</td>\n",
       "      <td>...</td>\n",
       "      <td>...</td>\n",
       "      <td>...</td>\n",
       "      <td>...</td>\n",
       "      <td>...</td>\n",
       "      <td>...</td>\n",
       "      <td>...</td>\n",
       "      <td>...</td>\n",
       "      <td>...</td>\n",
       "      <td>...</td>\n",
       "      <td>...</td>\n",
       "      <td>...</td>\n",
       "      <td>...</td>\n",
       "      <td>...</td>\n",
       "      <td>...</td>\n",
       "      <td>...</td>\n",
       "    </tr>\n",
       "    <tr>\n",
       "      <th>4139</th>\n",
       "      <td>4140</td>\n",
       "      <td>tau Gem</td>\n",
       "      <td>b</td>\n",
       "      <td>tau Gem b</td>\n",
       "      <td>Radial Velocity</td>\n",
       "      <td>0</td>\n",
       "      <td>1</td>\n",
       "      <td>305.500000</td>\n",
       "      <td>1.170000</td>\n",
       "      <td>0.0310</td>\n",
       "      <td>...</td>\n",
       "      <td>1.260</td>\n",
       "      <td>NaN</td>\n",
       "      <td>NaN</td>\n",
       "      <td>0.556</td>\n",
       "      <td>0.140</td>\n",
       "      <td>0.696</td>\n",
       "      <td>NaN</td>\n",
       "      <td>NaN</td>\n",
       "      <td>NaN</td>\n",
       "      <td>7</td>\n",
       "    </tr>\n",
       "    <tr>\n",
       "      <th>4140</th>\n",
       "      <td>4141</td>\n",
       "      <td>ups And</td>\n",
       "      <td>b</td>\n",
       "      <td>ups And b</td>\n",
       "      <td>Radial Velocity</td>\n",
       "      <td>0</td>\n",
       "      <td>3</td>\n",
       "      <td>4.617033</td>\n",
       "      <td>0.059222</td>\n",
       "      <td>0.0215</td>\n",
       "      <td>...</td>\n",
       "      <td>0.540</td>\n",
       "      <td>NaN</td>\n",
       "      <td>NaN</td>\n",
       "      <td>0.218</td>\n",
       "      <td>0.098</td>\n",
       "      <td>0.316</td>\n",
       "      <td>NaN</td>\n",
       "      <td>NaN</td>\n",
       "      <td>NaN</td>\n",
       "      <td>8</td>\n",
       "    </tr>\n",
       "    <tr>\n",
       "      <th>4141</th>\n",
       "      <td>4142</td>\n",
       "      <td>ups And</td>\n",
       "      <td>c</td>\n",
       "      <td>ups And c</td>\n",
       "      <td>Radial Velocity</td>\n",
       "      <td>0</td>\n",
       "      <td>3</td>\n",
       "      <td>241.258000</td>\n",
       "      <td>0.827774</td>\n",
       "      <td>0.2596</td>\n",
       "      <td>...</td>\n",
       "      <td>0.540</td>\n",
       "      <td>NaN</td>\n",
       "      <td>NaN</td>\n",
       "      <td>0.218</td>\n",
       "      <td>0.098</td>\n",
       "      <td>0.316</td>\n",
       "      <td>NaN</td>\n",
       "      <td>NaN</td>\n",
       "      <td>NaN</td>\n",
       "      <td>8</td>\n",
       "    </tr>\n",
       "    <tr>\n",
       "      <th>4142</th>\n",
       "      <td>4143</td>\n",
       "      <td>ups And</td>\n",
       "      <td>d</td>\n",
       "      <td>ups And d</td>\n",
       "      <td>Radial Velocity</td>\n",
       "      <td>0</td>\n",
       "      <td>3</td>\n",
       "      <td>1276.460000</td>\n",
       "      <td>2.513290</td>\n",
       "      <td>0.2987</td>\n",
       "      <td>...</td>\n",
       "      <td>0.540</td>\n",
       "      <td>NaN</td>\n",
       "      <td>NaN</td>\n",
       "      <td>0.218</td>\n",
       "      <td>0.098</td>\n",
       "      <td>0.316</td>\n",
       "      <td>NaN</td>\n",
       "      <td>NaN</td>\n",
       "      <td>NaN</td>\n",
       "      <td>8</td>\n",
       "    </tr>\n",
       "    <tr>\n",
       "      <th>4143</th>\n",
       "      <td>4144</td>\n",
       "      <td>xi Aql</td>\n",
       "      <td>b</td>\n",
       "      <td>xi Aql b</td>\n",
       "      <td>Radial Velocity</td>\n",
       "      <td>0</td>\n",
       "      <td>1</td>\n",
       "      <td>136.750000</td>\n",
       "      <td>0.680000</td>\n",
       "      <td>0.0000</td>\n",
       "      <td>...</td>\n",
       "      <td>1.050</td>\n",
       "      <td>1.026</td>\n",
       "      <td>0.543</td>\n",
       "      <td>0.485</td>\n",
       "      <td>0.196</td>\n",
       "      <td>0.681</td>\n",
       "      <td>NaN</td>\n",
       "      <td>NaN</td>\n",
       "      <td>NaN</td>\n",
       "      <td>9</td>\n",
       "    </tr>\n",
       "  </tbody>\n",
       "</table>\n",
       "<p>4144 rows × 144 columns</p>\n",
       "</div>"
      ],
      "text/plain": [
       "      rowid pl_hostname pl_letter     pl_name    pl_discmethod  \\\n",
       "0         1      11 Com         b    11 Com b  Radial Velocity   \n",
       "1         2      11 UMi         b    11 UMi b  Radial Velocity   \n",
       "2         3      14 And         b    14 And b  Radial Velocity   \n",
       "3         4      14 Her         b    14 Her b  Radial Velocity   \n",
       "4         5    16 Cyg B         b  16 Cyg B b  Radial Velocity   \n",
       "...     ...         ...       ...         ...              ...   \n",
       "4139   4140     tau Gem         b   tau Gem b  Radial Velocity   \n",
       "4140   4141     ups And         b   ups And b  Radial Velocity   \n",
       "4141   4142     ups And         c   ups And c  Radial Velocity   \n",
       "4142   4143     ups And         d   ups And d  Radial Velocity   \n",
       "4143   4144      xi Aql         b    xi Aql b  Radial Velocity   \n",
       "\n",
       "      pl_controvflag  pl_pnum    pl_orbper  pl_orbsmax  pl_orbeccen  ...  \\\n",
       "0                  0        1   326.030000    1.290000       0.2310  ...   \n",
       "1                  0        1   516.219970    1.530000       0.0800  ...   \n",
       "2                  0        1   185.840000    0.830000       0.0000  ...   \n",
       "3                  0        1  1773.400020    2.930000       0.3700  ...   \n",
       "4                  0        1   798.500000    1.660000       0.6800  ...   \n",
       "...              ...      ...          ...         ...          ...  ...   \n",
       "4139               0        1   305.500000    1.170000       0.0310  ...   \n",
       "4140               0        3     4.617033    0.059222       0.0215  ...   \n",
       "4141               0        3   241.258000    0.827774       0.2596  ...   \n",
       "4142               0        3  1276.460000    2.513290       0.2987  ...   \n",
       "4143               0        1   136.750000    0.680000       0.0000  ...   \n",
       "\n",
       "      st_bmvj  st_vjmic st_vjmrc  st_jmh2  st_hmk2  st_jmk2  st_bmy  st_m1  \\\n",
       "0       1.010       NaN      NaN    0.459    0.202    0.661     NaN    NaN   \n",
       "1       1.369       NaN      NaN    0.785    0.152    0.937     NaN    NaN   \n",
       "2       1.020       NaN      NaN    0.411    0.277    0.688     NaN    NaN   \n",
       "3       0.880       NaN      NaN    0.355    0.089    0.444   0.537  0.366   \n",
       "4       0.660       NaN      NaN    0.298    0.044    0.342   0.418  0.222   \n",
       "...       ...       ...      ...      ...      ...      ...     ...    ...   \n",
       "4139    1.260       NaN      NaN    0.556    0.140    0.696     NaN    NaN   \n",
       "4140    0.540       NaN      NaN    0.218    0.098    0.316     NaN    NaN   \n",
       "4141    0.540       NaN      NaN    0.218    0.098    0.316     NaN    NaN   \n",
       "4142    0.540       NaN      NaN    0.218    0.098    0.316     NaN    NaN   \n",
       "4143    1.050     1.026    0.543    0.485    0.196    0.681     NaN    NaN   \n",
       "\n",
       "      st_c1 st_colorn  \n",
       "0       NaN         7  \n",
       "1       NaN         5  \n",
       "2       NaN         7  \n",
       "3     0.438         9  \n",
       "4     0.351        17  \n",
       "...     ...       ...  \n",
       "4139    NaN         7  \n",
       "4140    NaN         8  \n",
       "4141    NaN         8  \n",
       "4142    NaN         8  \n",
       "4143    NaN         9  \n",
       "\n",
       "[4144 rows x 144 columns]"
      ]
     },
     "execution_count": 3,
     "metadata": {},
     "output_type": "execute_result"
    }
   ],
   "source": [
    "df"
   ]
  },
  {
   "cell_type": "code",
   "execution_count": 4,
   "metadata": {},
   "outputs": [],
   "source": [
    "#GJ273b=df.loc[df.target_name.astype(str)=='b\\'tau Cet e\\'']\n",
    "tauCete=df.loc[df.pl_name=='tau Cet e']"
   ]
  },
  {
   "cell_type": "code",
   "execution_count": 5,
   "metadata": {},
   "outputs": [
    {
     "data": {
      "text/plain": [
       "4135    3.931186\n",
       "Name: pl_bmassj, dtype: float64"
      ]
     },
     "execution_count": 5,
     "metadata": {},
     "output_type": "execute_result"
    }
   ],
   "source": [
    "tauCete.pl_bmassj*317.8"
   ]
  },
  {
   "cell_type": "code",
   "execution_count": 6,
   "metadata": {},
   "outputs": [
    {
     "data": {
      "text/plain": [
       "4135    G8 V\n",
       "Name: st_spstr, dtype: object"
      ]
     },
     "execution_count": 6,
     "metadata": {},
     "output_type": "execute_result"
    }
   ],
   "source": [
    "tauCete.st_spstr"
   ]
  },
  {
   "cell_type": "code",
   "execution_count": 7,
   "metadata": {},
   "outputs": [
    {
     "name": "stdout",
     "output_type": "stream",
     "text": [
      "rowid\n",
      "pl_hostname\n",
      "pl_letter\n",
      "pl_name\n",
      "pl_discmethod\n",
      "pl_controvflag\n",
      "pl_pnum\n",
      "pl_orbper\n",
      "pl_orbsmax\n",
      "pl_orbeccen\n",
      "pl_orbincl\n",
      "pl_bmassj\n",
      "pl_bmassprov\n",
      "pl_radj\n",
      "pl_dens\n",
      "pl_ttvflag\n",
      "pl_kepflag\n",
      "pl_k2flag\n",
      "pl_nnotes\n",
      "ra_str\n",
      "ra\n",
      "dec_str\n",
      "dec\n",
      "st_dist\n",
      "gaia_dist\n",
      "st_optmag\n",
      "st_optband\n",
      "gaia_gmag\n",
      "st_teff\n",
      "st_mass\n",
      "st_rad\n",
      "rowupdate\n",
      "pl_tranflag\n",
      "pl_rvflag\n",
      "pl_imgflag\n",
      "pl_astflag\n",
      "pl_omflag\n",
      "pl_cbflag\n",
      "pl_angsep\n",
      "pl_orbtper\n",
      "pl_orblper\n",
      "pl_rvamp\n",
      "pl_eqt\n",
      "pl_insol\n",
      "pl_massj\n",
      "pl_msinij\n",
      "pl_masse\n",
      "pl_msinie\n",
      "pl_bmasse\n",
      "pl_rade\n",
      "pl_rads\n",
      "pl_trandep\n",
      "pl_trandur\n",
      "pl_tranmid\n",
      "pl_tsystemref\n",
      "pl_imppar\n",
      "pl_occdep\n",
      "pl_ratdor\n",
      "pl_ratror\n",
      "pl_def_reflink\n",
      "pl_disc\n",
      "pl_disc_reflink\n",
      "pl_locale\n",
      "pl_facility\n",
      "pl_telescope\n",
      "pl_instrument\n",
      "pl_status\n",
      "pl_mnum\n",
      "pl_st_npar\n",
      "pl_st_nref\n",
      "pl_pelink\n",
      "pl_edelink\n",
      "pl_publ_date\n",
      "hd_name\n",
      "hip_name\n",
      "st_rah\n",
      "st_glon\n",
      "st_glat\n",
      "st_elon\n",
      "st_elat\n",
      "st_plx\n",
      "gaia_plx\n",
      "st_pmra\n",
      "st_pmdec\n",
      "st_pm\n",
      "gaia_pmra\n",
      "gaia_pmdec\n",
      "gaia_pm\n",
      "st_radv\n",
      "st_sp\n",
      "st_spstr\n",
      "st_logg\n",
      "st_lum\n",
      "st_dens\n",
      "st_metfe\n",
      "st_metratio\n",
      "st_age\n",
      "st_vsini\n",
      "st_acts\n",
      "st_actr\n",
      "st_actlx\n",
      "swasp_id\n",
      "st_nts\n",
      "st_nplc\n",
      "st_nglc\n",
      "st_nrvc\n",
      "st_naxa\n",
      "st_nimg\n",
      "st_nspec\n",
      "st_uj\n",
      "st_vj\n",
      "st_bj\n",
      "st_rc\n",
      "st_ic\n",
      "st_j\n",
      "st_h\n",
      "st_k\n",
      "st_wise1\n",
      "st_wise2\n",
      "st_wise3\n",
      "st_wise4\n",
      "st_irac1\n",
      "st_irac2\n",
      "st_irac3\n",
      "st_irac4\n",
      "st_mips1\n",
      "st_mips2\n",
      "st_mips3\n",
      "st_iras1\n",
      "st_iras2\n",
      "st_iras3\n",
      "st_iras4\n",
      "st_photn\n",
      "st_umbj\n",
      "st_bmvj\n",
      "st_vjmic\n",
      "st_vjmrc\n",
      "st_jmh2\n",
      "st_hmk2\n",
      "st_jmk2\n",
      "st_bmy\n",
      "st_m1\n",
      "st_c1\n",
      "st_colorn\n"
     ]
    }
   ],
   "source": [
    "for col in df.columns: \n",
    "    print(col) "
   ]
  },
  {
   "cell_type": "code",
   "execution_count": 8,
   "metadata": {},
   "outputs": [
    {
     "data": {
      "text/plain": [
       "0       K0 III\n",
       "1       K4 III\n",
       "2       G8 III\n",
       "3         K0 V\n",
       "4       G2.5 V\n",
       "         ...  \n",
       "4139    K2 III\n",
       "4140      F8 V\n",
       "4141      F8 V\n",
       "4142      F8 V\n",
       "4143    G9 III\n",
       "Name: st_spstr, Length: 4144, dtype: object"
      ]
     },
     "execution_count": 8,
     "metadata": {},
     "output_type": "execute_result"
    }
   ],
   "source": [
    "df.st_spstr"
   ]
  },
  {
   "cell_type": "code",
   "execution_count": null,
   "metadata": {},
   "outputs": [],
   "source": [
    "df.st_spstr.unique()"
   ]
  },
  {
   "cell_type": "code",
   "execution_count": 9,
   "metadata": {},
   "outputs": [],
   "source": [
    "idx=df['st_spstr'].str[0]=='M'\n",
    "df=df[idx]"
   ]
  },
  {
   "cell_type": "code",
   "execution_count": 10,
   "metadata": {},
   "outputs": [
    {
     "data": {
      "text/plain": [
       "281"
      ]
     },
     "execution_count": 10,
     "metadata": {},
     "output_type": "execute_result"
    }
   ],
   "source": [
    "len(df)"
   ]
  },
  {
   "cell_type": "code",
   "execution_count": 11,
   "metadata": {},
   "outputs": [],
   "source": [
    "idx_mass=-np.isnan(df.pl_bmassj)"
   ]
  },
  {
   "cell_type": "code",
   "execution_count": 12,
   "metadata": {},
   "outputs": [],
   "source": [
    "df2=df[idx_mass]"
   ]
  },
  {
   "cell_type": "code",
   "execution_count": 13,
   "metadata": {},
   "outputs": [
    {
     "name": "stderr",
     "output_type": "stream",
     "text": [
      "/usr/local/lib/python3.7/site-packages/ipykernel_launcher.py:1: SettingWithCopyWarning: \n",
      "A value is trying to be set on a copy of a slice from a DataFrame.\n",
      "Try using .loc[row_indexer,col_indexer] = value instead\n",
      "\n",
      "See the caveats in the documentation: http://pandas.pydata.org/pandas-docs/stable/user_guide/indexing.html#returning-a-view-versus-a-copy\n",
      "  \"\"\"Entry point for launching an IPython kernel.\n",
      "/usr/local/lib/python3.7/site-packages/ipykernel_launcher.py:2: SettingWithCopyWarning: \n",
      "A value is trying to be set on a copy of a slice from a DataFrame.\n",
      "Try using .loc[row_indexer,col_indexer] = value instead\n",
      "\n",
      "See the caveats in the documentation: http://pandas.pydata.org/pandas-docs/stable/user_guide/indexing.html#returning-a-view-versus-a-copy\n",
      "  \n"
     ]
    }
   ],
   "source": [
    "df2['pl_bmasse']=df2.pl_bmassj*317.8\n",
    "df2['rade']=df2.pl_radj*11.21"
   ]
  },
  {
   "cell_type": "code",
   "execution_count": 14,
   "metadata": {},
   "outputs": [
    {
     "data": {
      "text/plain": [
       "10      7786.100000\n",
       "11      4417.420000\n",
       "12      2383.500000\n",
       "13      1271.200000\n",
       "15      6657.910000\n",
       "           ...     \n",
       "4092       3.409994\n",
       "4093       7.700294\n",
       "4104       0.750008\n",
       "4105       0.978824\n",
       "4106       1.140902\n",
       "Name: pl_bmasse, Length: 165, dtype: float64"
      ]
     },
     "execution_count": 14,
     "metadata": {},
     "output_type": "execute_result"
    }
   ],
   "source": [
    "df2.pl_bmasse"
   ]
  },
  {
   "cell_type": "code",
   "execution_count": 15,
   "metadata": {},
   "outputs": [],
   "source": [
    "finaldf=df2.loc[ ((df2.pl_bmasse<5) & (df2.pl_bmasse>0.1)) | ((df2.rade<1.5) & (df2.rade>0.5))]"
   ]
  },
  {
   "cell_type": "code",
   "execution_count": 16,
   "metadata": {},
   "outputs": [],
   "source": [
    "finaldf=finaldf.loc[ finaldf.pl_bmasse<10]"
   ]
  },
  {
   "cell_type": "code",
   "execution_count": 17,
   "metadata": {},
   "outputs": [
    {
     "data": {
      "text/plain": [
       "[<matplotlib.lines.Line2D at 0x7f895569a790>]"
      ]
     },
     "execution_count": 17,
     "metadata": {},
     "output_type": "execute_result"
    },
    {
     "data": {
      "image/png": "[encoded data removed]",
      "text/plain": [
       "<Figure size 432x288 with 1 Axes>"
      ]
     },
     "metadata": {
      "needs_background": "light"
     },
     "output_type": "display_data"
    }
   ],
   "source": [
    "logmass=np.linspace(-4,4,1000)\n",
    "mass=10**logmass\n",
    "radius=mass**0.28\n",
    "plt.loglog(mass,radius)"
   ]
  },
  {
   "cell_type": "code",
   "execution_count": 18,
   "metadata": {},
   "outputs": [
    {
     "data": {
      "text/plain": [
       "139     1.369718\n",
       "140     1.738366\n",
       "141     1.639848\n",
       "142     1.658916\n",
       "143     2.640918\n",
       "147     2.091124\n",
       "150     3.028634\n",
       "163     2.888802\n",
       "164     1.179038\n",
       "167     1.779680\n",
       "168     4.179070\n",
       "176     3.279696\n",
       "177     2.021208\n",
       "178     2.310406\n",
       "182     1.840062\n",
       "183     3.400460\n",
       "188     2.469306\n",
       "190     2.990498\n",
       "201     1.684340\n",
       "202     2.818886\n",
       "205     3.813600\n",
       "206     2.542400\n",
       "207     2.542400\n",
       "208     4.449200\n",
       "212     4.449200\n",
       "214     4.398352\n",
       "1591    2.860200\n",
       "1592    3.813600\n",
       "1901    0.066738\n",
       "1902    1.970360\n",
       "1903    0.638778\n",
       "3713    4.598566\n",
       "3718    1.808282\n",
       "3719    8.698186\n",
       "3724    2.199176\n",
       "3851    1.271200\n",
       "3865    1.398320\n",
       "3900    1.048740\n",
       "3901    1.109122\n",
       "4091    1.909978\n",
       "4092    3.409994\n",
       "4104    0.750008\n",
       "4105    0.978824\n",
       "4106    1.140902\n",
       "Name: pl_bmasse, dtype: float64"
      ]
     },
     "execution_count": 18,
     "metadata": {},
     "output_type": "execute_result"
    }
   ],
   "source": [
    "finaldf.pl_bmasse"
   ]
  },
  {
   "cell_type": "code",
   "execution_count": 19,
   "metadata": {},
   "outputs": [
    {
     "data": {
      "text/plain": [
       "139     0.021000\n",
       "140     0.035000\n",
       "141     0.054000\n",
       "142     0.015300\n",
       "143     0.047600\n",
       "147     0.009160\n",
       "150     0.072000\n",
       "163     0.091101\n",
       "164     0.036467\n",
       "167     0.019700\n",
       "168     0.057000\n",
       "176     0.082080\n",
       "177     0.032820\n",
       "178     0.126400\n",
       "182     0.035000\n",
       "183     0.061000\n",
       "188     0.029000\n",
       "190     0.078500\n",
       "201     0.028150\n",
       "202     0.078361\n",
       "205     0.125000\n",
       "206     0.213000\n",
       "207     0.156000\n",
       "208     0.549000\n",
       "214     0.080000\n",
       "3713    0.020910\n",
       "3718    0.026750\n",
       "3719    0.040400\n",
       "3724    0.038070\n",
       "3851    0.048500\n",
       "3865    0.049600\n",
       "3900    0.025200\n",
       "3901    0.044300\n",
       "4091    0.037500\n",
       "4092    0.089000\n",
       "4104    0.015570\n",
       "4105    0.020900\n",
       "4106    0.027640\n",
       "Name: pl_orbsmax, dtype: float64"
      ]
     },
     "execution_count": 19,
     "metadata": {},
     "output_type": "execute_result"
    }
   ],
   "source": [
    "finaldf=finaldf[-np.isnan(finaldf.pl_orbsmax)]\n",
    "a=finaldf.pl_orbsmax\n",
    "a"
   ]
  },
  {
   "cell_type": "code",
   "execution_count": 20,
   "metadata": {},
   "outputs": [
    {
     "data": {
      "text/plain": [
       "139     0.005720\n",
       "140     0.009530\n",
       "141     0.014700\n",
       "142     0.001210\n",
       "143     0.003770\n",
       "147     0.000449\n",
       "150     0.020200\n",
       "163     0.024000\n",
       "164     0.009590\n",
       "167     0.000691\n",
       "168     0.002000\n",
       "176     0.004060\n",
       "177     0.006170\n",
       "178     0.023800\n",
       "182     0.003710\n",
       "183     0.006460\n",
       "188     0.001600\n",
       "190     0.030800\n",
       "201     0.004470\n",
       "202     0.012100\n",
       "205     0.018400\n",
       "206     0.031300\n",
       "207     0.022900\n",
       "208     0.080700\n",
       "214     0.016000\n",
       "3713    0.000831\n",
       "3718    0.001780\n",
       "3719    0.001350\n",
       "3724    0.005540\n",
       "3851    0.037300\n",
       "3865    0.014700\n",
       "3900    0.006580\n",
       "3901    0.011600\n",
       "4091    0.008710\n",
       "4092    0.020700\n",
       "4104    0.004330\n",
       "4105    0.005810\n",
       "4106    0.007680\n",
       "Name: pl_angsep, dtype: float64"
      ]
     },
     "execution_count": 20,
     "metadata": {},
     "output_type": "execute_result"
    }
   ],
   "source": [
    "ang=finaldf.pl_angsep/1000\n",
    "ang"
   ]
  },
  {
   "cell_type": "code",
   "execution_count": 21,
   "metadata": {},
   "outputs": [
    {
     "data": {
      "text/plain": [
       "139     0.097421\n",
       "140     0.104144\n",
       "141     0.102456\n",
       "142     0.102789\n",
       "143     0.117081\n",
       "147     0.109673\n",
       "150     0.121659\n",
       "163     0.120059\n",
       "164     0.093416\n",
       "167     0.104831\n",
       "168     0.133136\n",
       "176     0.124402\n",
       "177     0.108634\n",
       "178     0.112779\n",
       "182     0.105815\n",
       "183     0.125668\n",
       "188     0.114899\n",
       "190     0.121228\n",
       "201     0.103227\n",
       "202     0.119238\n",
       "205     0.129768\n",
       "206     0.115841\n",
       "207     0.115841\n",
       "208     0.135492\n",
       "214     0.135057\n",
       "3713    0.136750\n",
       "3718    0.105300\n",
       "3719    0.163469\n",
       "3724    0.111231\n",
       "3851    0.095406\n",
       "3865    0.097986\n",
       "3900    0.090403\n",
       "3901    0.091831\n",
       "4091    0.106926\n",
       "4092    0.125767\n",
       "4104    0.082302\n",
       "4105    0.088673\n",
       "4106    0.092560\n",
       "Name: pl_bmasse, dtype: float64"
      ]
     },
     "execution_count": 21,
     "metadata": {},
     "output_type": "execute_result"
    }
   ],
   "source": [
    "implied_radius=finaldf.pl_bmasse**0.28\n",
    "implied_radiusj=implied_radius/11.21\n",
    "implied_radiusj"
   ]
  },
  {
   "cell_type": "code",
   "execution_count": 22,
   "metadata": {},
   "outputs": [],
   "source": [
    "R=finaldf.pl_radj\n",
    "R[np.isnan(R)]=implied_radiusj[np.isnan(R)]"
   ]
  },
  {
   "cell_type": "code",
   "execution_count": 23,
   "metadata": {},
   "outputs": [
    {
     "data": {
      "text/plain": [
       "139     0.097421\n",
       "140     0.104144\n",
       "141     0.102456\n",
       "142     0.102789\n",
       "143     0.117081\n",
       "147     0.106000\n",
       "150     0.121659\n",
       "163     0.120059\n",
       "164     0.093416\n",
       "167     0.104831\n",
       "168     0.133136\n",
       "176     0.124402\n",
       "177     0.108634\n",
       "178     0.112779\n",
       "182     0.109000\n",
       "183     0.125668\n",
       "188     0.114899\n",
       "190     0.121228\n",
       "201     0.103227\n",
       "202     0.119238\n",
       "205     0.129768\n",
       "206     0.115841\n",
       "207     0.115841\n",
       "208     0.135492\n",
       "214     0.135057\n",
       "3713    0.124000\n",
       "3718    0.114000\n",
       "3719    0.097000\n",
       "3724    0.123000\n",
       "3851    0.095406\n",
       "3865    0.097986\n",
       "3900    0.090403\n",
       "3901    0.091831\n",
       "4091    0.106926\n",
       "4092    0.125767\n",
       "4104    0.082302\n",
       "4105    0.088673\n",
       "4106    0.092560\n",
       "Name: pl_radj, dtype: float64"
      ]
     },
     "execution_count": 23,
     "metadata": {},
     "output_type": "execute_result"
    }
   ],
   "source": [
    "R"
   ]
  },
  {
   "cell_type": "code",
   "execution_count": 24,
   "metadata": {},
   "outputs": [
    {
     "data": {
      "text/plain": [
       "139     0.000047\n",
       "140     0.000050\n",
       "141     0.000049\n",
       "142     0.000049\n",
       "143     0.000056\n",
       "147     0.000051\n",
       "150     0.000058\n",
       "163     0.000057\n",
       "164     0.000045\n",
       "167     0.000050\n",
       "168     0.000064\n",
       "176     0.000059\n",
       "177     0.000052\n",
       "178     0.000054\n",
       "182     0.000052\n",
       "183     0.000060\n",
       "188     0.000055\n",
       "190     0.000058\n",
       "201     0.000049\n",
       "202     0.000057\n",
       "205     0.000062\n",
       "206     0.000055\n",
       "207     0.000055\n",
       "208     0.000065\n",
       "214     0.000065\n",
       "3713    0.000059\n",
       "3718    0.000054\n",
       "3719    0.000046\n",
       "3724    0.000059\n",
       "3851    0.000046\n",
       "3865    0.000047\n",
       "3900    0.000043\n",
       "3901    0.000044\n",
       "4091    0.000051\n",
       "4092    0.000060\n",
       "4104    0.000039\n",
       "4105    0.000042\n",
       "4106    0.000044\n",
       "Name: pl_radj, dtype: float64"
      ]
     },
     "execution_count": 24,
     "metadata": {},
     "output_type": "execute_result"
    }
   ],
   "source": [
    "R_au=R/2092.51\n",
    "R_au"
   ]
  },
  {
   "cell_type": "code",
   "execution_count": 25,
   "metadata": {},
   "outputs": [],
   "source": [
    "C=0.4/np.pi*(R_au/a)**2"
   ]
  },
  {
   "cell_type": "code",
   "execution_count": 26,
   "metadata": {},
   "outputs": [
    {
     "data": {
      "text/plain": [
       "-1.8210633778149077"
      ]
     },
     "execution_count": 26,
     "metadata": {},
     "output_type": "execute_result"
    }
   ],
   "source": [
    "airy1=np.log10(1.22*1500e-9/25*206265)\n",
    "airy1"
   ]
  },
  {
   "cell_type": "code",
   "execution_count": 27,
   "metadata": {},
   "outputs": [
    {
     "data": {
      "text/plain": [
       "-1.5585344854182182"
      ]
     },
     "execution_count": 27,
     "metadata": {},
     "output_type": "execute_result"
    }
   ],
   "source": [
    "airy2=np.log10(2.233*1500e-9/25*206265)\n",
    "airy2"
   ]
  },
  {
   "cell_type": "code",
   "execution_count": 28,
   "metadata": {},
   "outputs": [
    {
     "data": {
      "text/plain": [
       "-1.398220686158553"
      ]
     },
     "execution_count": 28,
     "metadata": {},
     "output_type": "execute_result"
    }
   ],
   "source": [
    "airy3=np.log10(3.23*1500e-9/25*206265)\n",
    "airy3"
   ]
  },
  {
   "cell_type": "code",
   "execution_count": 29,
   "metadata": {},
   "outputs": [],
   "source": [
    "n=finaldf.pl_name"
   ]
  },
  {
   "cell_type": "code",
   "execution_count": 30,
   "metadata": {},
   "outputs": [
    {
     "data": {
      "image/png": "[encoded data removed]",
      "text/plain": [
       "<Figure size 1440x2880 with 1 Axes>"
      ]
     },
     "metadata": {
      "needs_background": "light"
     },
     "output_type": "display_data"
    }
   ],
   "source": [
    "fig, ax = plt.subplots(figsize=(20, 40))\n",
    "ax.scatter(ang,C)\n",
    "\n",
    "ax.set_yscale('log')\n",
    "ax.set_xscale('log')\n",
    "ax.set_xlim([1e-4, 1e-1])\n",
    "ax.set_ylim([1e-9, 1e-5])\n",
    "ax.axvline(x=10**airy1)\n",
    "ax.axvline(x=10**airy3)\n",
    "ax.set_xlabel('Angular Separation (arcseconds)',fontsize=30)\n",
    "ax.set_ylabel('Planet-to-star contrast',fontsize=30)\n",
    "def label_point(x, y, val, ax):\n",
    "    a = pd.concat({'x': x, 'y': y, 'val': val}, axis=1)\n",
    "    for i, point in a.iterrows():\n",
    "        ax.text(point['x']+point['x']/20, point['y'], str(point['val']))\n",
    "\n",
    "label_point(ang, C, n, ax)\n"
   ]
  },
  {
   "cell_type": "code",
   "execution_count": 31,
   "metadata": {},
   "outputs": [
    {
     "data": {
      "text/plain": [
       "150         GJ 15 A b\n",
       "163          GJ 273 b\n",
       "178         GJ 3323 c\n",
       "190          GJ 411 b\n",
       "205        GJ 667 C c\n",
       "206        GJ 667 C e\n",
       "207        GJ 667 C f\n",
       "208        GJ 667 C g\n",
       "214          GJ 682 b\n",
       "3851    Proxima Cen b\n",
       "4092      Wolf 1061 c\n",
       "Name: pl_name, dtype: object"
      ]
     },
     "execution_count": 31,
     "metadata": {},
     "output_type": "execute_result"
    }
   ],
   "source": [
    "finaldf[np.log10(ang)>airy1].pl_name"
   ]
  },
  {
   "cell_type": "code",
   "execution_count": null,
   "metadata": {},
   "outputs": [],
   "source": [
    "finaldf.pl_name"
   ]
  }
 ],
 "metadata": {
  "kernelspec": {
   "display_name": "Python 3",
   "language": "python",
   "name": "python3"
  },
  "language_info": {
   "codemirror_mode": {
    "name": "ipython",
    "version": 3
   },
   "file_extension": ".py",
   "mimetype": "text/x-python",
   "name": "python",
   "nbconvert_exporter": "python",
   "pygments_lexer": "ipython3",
   "version": "3.7.6"
  }
 },
 "nbformat": 4,
 "nbformat_minor": 4
}
